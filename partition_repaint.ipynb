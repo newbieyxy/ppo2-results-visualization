{
 "cells": [
  {
   "cell_type": "code",
   "execution_count": 1,
   "metadata": {},
   "outputs": [],
   "source": [
    "import os\n",
    "from ppo import visualize\n",
    "import pandas as pd\n",
    "import numpy as np\n",
    "import seaborn as sns\n",
    "import matplotlib.pyplot as plt\n",
    "from scipy.interpolate import spline\n",
    "from scipy.signal import medfilt\n",
    "\n",
    "# repaint acc_reward in tanh experiment\n",
    "# env_name = [\"multiposrealright_normal_a_squaresafeinit_staticobs_vmaxdismax_avgmode_timecost_highfre-v0\",\n",
    "#             \"multiposrealright_normal_v_withvprev_squaresafeinit_staticobs_vmaxdismax_avgmode_timecost_highfre-v0\",\n",
    "#             \"multimodrealright_normal_a_squaresafeinit_staticobs_vmaxdismax_avgmode_timecost_highfre-v0\",\n",
    "#             \"multimodrealright_normal_v_withvprev_squaresafeinit_staticobs_vmaxdismax_avgmode_timecost_highfre-v0\"]\n",
    "\n",
    "# log_dir = \"./train_models/gym/tanh0903/\" \n",
    "# test_env=\"/multiposrealright_normal_v_withvprev_squaresafeinit_staticobs_vmaxdismax_avgmode_timecost_norewvpref_highfre-v0\"\n",
    "\n",
    "\n",
    "# log_dir = \"./train_models/gym/worker_step_lidar\"\n",
    "# env_name=[\"w4s32\",\n",
    "#          \"w4s64\",\n",
    "#          \"w4s128\",\n",
    "#          \"w8s32\",\n",
    "#          \"w8s64\",\n",
    "#          \"w8s128\",\n",
    "#          \"w16s32\",\n",
    "#          \"w16s64\"]\n",
    "# test_env=\"/multi_lidar_v_default_norewvpref-v0\"\n",
    "\n",
    "# log_dir = \"./train_models/gym/20181101/primary\"\n",
    "# env_name=[\"fc512\"] #,\"fc128\"]\n",
    "# test_env=[\"/multi_mini_lidar_v_smallerdensersensing_highwvpenalty_norewvpref_training-v1\"]\n",
    "\n",
    "# log_dir = \"./train_models/gym/20181107/primary/\"\n",
    "# env_name=[\"with_rnn\",\"without_rnn\"]\n",
    "# test_env=[\"/multi_lidar_v_default_norewvpref-v0\",\n",
    "#           \"/multi_pos_v_default_norewvpref-v0\"]\n",
    "\n",
    "# log_dir = \"./train_models/gym/20190116/primary/indppo/\"\n",
    "# env_name=[\"seed1\"] #,\"fc128\"]\n",
    "# test_env=[\"/multi_pos_v_default_norewvpref-v0\"]\n",
    "# folderdir = []\n",
    "# for env in env_name:\n",
    "#     for test in test_env:\n",
    "#         envdir =os.path.join(log_dir, env+test) \n",
    "#         folderdir.append(envdir)\n",
    "\n",
    "# visualization of reward partition       \n",
    "# ----auxilary choice----\n",
    "logs_dir = \"./ppo/logs\"\n",
    "date = \"190126\"\n",
    "env = \"lidar_a-v0\" # \"pos_v-v0\"\n",
    "method = \"clde_unordered_fc_seperate_rnn\"\n",
    "# -----------------------\n",
    "log_dir = \"{}/{}/{}/{}\".format(logs_dir,date,env,method)\n",
    "seed_name=[\"seed1\"] #,\"fc128\"]\n",
    "\n",
    "folderdir = []\n",
    "for seed in seed_name:\n",
    "    envdir =os.path.join(log_dir, seed, 'log') \n",
    "    folderdir.append(envdir)"
   ]
  },
  {
   "cell_type": "code",
   "execution_count": 2,
   "metadata": {},
   "outputs": [],
   "source": [
    "# color stuff\n",
    "#colors = [\"salmon pink\", \"tiffany blue\", \"light lavender\", \"peach\", \"light blue grey\", \"pastel yellow\", \"foam green\",  ]\n",
    "colors = [\"shamrock green\",\"neon red\",\"cerulean\",\"pinkish purple\",\"mango\",\"mustard yellow\", \"peach\", \"light blue grey\", \"pastel yellow\"]\n",
    "sns.set_palette(sns.xkcd_palette(colors))\n",
    "sns.palplot(sns.xkcd_palette(colors)) #\"leather\" \"pinkish purple\""
   ]
  },
  {
   "cell_type": "code",
   "execution_count": 3,
   "metadata": {
    "scrolled": true
   },
   "outputs": [
    {
     "name": "stdout",
     "output_type": "stream",
     "text": [
      "seed1 reward ['./ppo/logs/190126/lidar_a-v0/clde_unordered_fc_seperate_rnn/seed1/log']\n",
      "seed1 rew_goal ['./ppo/logs/190126/lidar_a-v0/clde_unordered_fc_seperate_rnn/seed1/log']\n",
      "seed1 rew_pref ['./ppo/logs/190126/lidar_a-v0/clde_unordered_fc_seperate_rnn/seed1/log']\n",
      "seed1 rew_formation ['./ppo/logs/190126/lidar_a-v0/clde_unordered_fc_seperate_rnn/seed1/log']\n",
      "seed1 rew_vpenalty ['./ppo/logs/190126/lidar_a-v0/clde_unordered_fc_seperate_rnn/seed1/log']\n"
     ]
    }
   ],
   "source": [
    "from scipy.signal import savgol_filter\n",
    "\n",
    "# convergence\n",
    "convergence_entry = ['Test index', 'Setting', 'Number of frames', 'Accumulated total rewards'] #Setting\n",
    "convergence_title = {e:[] for e in convergence_entry}\n",
    "convergence_data = pd.DataFrame(convergence_title)\n",
    "bin_size = 50000 # 100\n",
    "# num_iteration = int(10000000/bin_size) # maybe dummy\n",
    "\n",
    "# setting = [\"P+A\",\"P+V\",\"L+A\",\"L+V\"]\n",
    "\n",
    "# setting = [\"w4s32\",\"w4s64\",\"w4s128\",\"w8s32\",\"w8s64\",\"w8s128\",\"w16s32\",\"w16s64\"]\n",
    "\n",
    "setting = seed_name\n",
    "\n",
    "# setting = [\"lidar+v+rnn\",\"pos+v+rnn\",\"lidar+v_nornn\",\"pos+v_nornn\"]\n",
    "\n",
    "index = 0\n",
    "rew_partition = [\"reward\",\"rew_goal\",\"rew_pref\",\"rew_formation\",\"rew_vpenalty\"]\n",
    "#for seed in seed_name:\n",
    "for partition in rew_partition:\n",
    "    list_iteration = []\n",
    "    list_reward = []\n",
    "    # for test in test_env:\n",
    "    for seed in seed_name:\n",
    "        # print (env,test)\n",
    "        print (seed, partition, folderdir)\n",
    "        # tx, ty = visualize.load_data(folderdir[index], 1, bin_size) \n",
    "        tx, ty = visualize.load_data(folderdir[0], 1, bin_size, rew_partition_record=partition)  \n",
    "        list_iteration.extend(tx) \n",
    "        list_reward.extend(ty)\n",
    "\n",
    "        # index --> seed\n",
    "        list_test_index = [index for _ in range(len(list_iteration))]\n",
    "        # list_setting = [setting[index] for _ in range(len(list_iteration))]\n",
    "        list_setting = [partition for _ in range(len(list_iteration))]\n",
    "        frame = [list_test_index, list_setting, list_iteration, list_reward]\n",
    "        frame = list(map(list, zip(*frame)))\n",
    "\n",
    "        df = pd.DataFrame(frame, columns=convergence_entry)\n",
    "        convergence_data = convergence_data.append(df, ignore_index=True)\n",
    "\n",
    "    index += 1\n",
    "\n",
    "#xnew = np.linspace(list_iteration.min(),list_iteration.max(),300) #300 represents number of points to make between T.min and T.max"
   ]
  },
  {
   "cell_type": "code",
   "execution_count": 4,
   "metadata": {},
   "outputs": [],
   "source": [
    "import os\n",
    "# fig_dir = '{}/{}'.format(\"./eval_results/sample_figures\", \"test_single\")\n",
    "fig_dir = '{}/{}/{}'.format(log_dir, seed_name[0], \"repaint\") # e.g., ./ppo/logs/190125/polar_pos_v-v0/clde_unordered_fc_seperate_rnn/seed1/repaint\n",
    "if not os.path.exists(fig_dir):\n",
    "    os.makedirs(fig_dir)"
   ]
  },
  {
   "cell_type": "code",
   "execution_count": 5,
   "metadata": {},
   "outputs": [],
   "source": [
    "convergence_entry_prefout = ['Test index', 'Setting', 'Number of frames', 'Accumulated total rewards'] #Setting\n",
    "convergence_title_prefout = {e:[] for e in convergence_entry_prefout}\n",
    "convergence_data_prefout = pd.DataFrame(convergence_title_prefout)\n",
    "for setting in (\"reward\",\"rew_goal\",\"rew_formation\",\"rew_vpenalty\"):\n",
    "    convergence_data_prefout = convergence_data_prefout.append(convergence_data[convergence_data['Setting']==setting])"
   ]
  },
  {
   "cell_type": "code",
   "execution_count": 6,
   "metadata": {},
   "outputs": [],
   "source": [
    "convergence_entry = ['Test index', 'Setting', 'Number of frames', 'Accumulated total rewards'] #Setting\n",
    "convergence_title = {e:[] for e in convergence_entry}\n",
    "convergence_data_prefout_rewout = pd.DataFrame(convergence_title)\n",
    "for setting in (\"rew_goal\",\"rew_formation\",\"rew_vpenalty\"):\n",
    "    convergence_data_prefout_rewout = convergence_data_prefout_rewout.append(convergence_data[convergence_data['Setting']==setting])"
   ]
  },
  {
   "cell_type": "code",
   "execution_count": 7,
   "metadata": {},
   "outputs": [],
   "source": [
    "plt.close()\n",
    "dashline=[(),(1, 3)] #[(),(2, 2)]\n",
    "plt.figure(1,figsize = (8,8))\n",
    "plt.rcParams.update({'font.size': 20}) \n",
    "ax = plt.gca()\n",
    "ax.set_xlabel('Number of frames',fontsize=20)\n",
    "ax.set_ylabel('Accumulated total rewards',fontsize=20,labelpad =-12)\n",
    "sns.set_context(\"paper\")\n",
    "sns.lineplot(x=\"Number of frames\", y=\"Accumulated total rewards\", \n",
    "             data=convergence_data_prefout_rewout, ci=None, \n",
    "             hue='Setting', dashes=dashline) #, markers=True\n",
    "legend=ax.legend(loc='lower right',title=None,fontsize=13)\n",
    "legend.get_title().set_fontsize(fontsize = 8)\n",
    "plt.tick_params(labelsize=20)\n",
    "#ax.legend(loc='lower right',title=None)\n",
    "#plt.legend(loc='lower right',title=None)\n",
    "# plt.savefig('{}/{}'.format(fig_dir, test_env[0]+env_name[0]+'convergence.png'))\n",
    "plt.savefig('{}/{}'.format(fig_dir, 'rew_partition_prefout_rewout.png'))"
   ]
  },
  {
   "cell_type": "code",
   "execution_count": 8,
   "metadata": {},
   "outputs": [],
   "source": [
    "plt.figure(2,figsize = (8,8))\n",
    "plt.rcParams.update({'font.size': 20}) \n",
    "ax = plt.gca()\n",
    "ax.set_xlabel('Number of frames',fontsize=20)\n",
    "ax.set_ylabel('Accumulated total rewards',fontsize=20,labelpad =-12)\n",
    "ax = plt.gca()\n",
    "sns.set_context(\"paper\")\n",
    "sns.lineplot(x=\"Number of frames\", y=\"Accumulated total rewards\", \n",
    "             data=convergence_data_prefout_rewout, ci=None, \n",
    "             hue='Setting', dashes=dashline) #, markers=True\n",
    "ax.legend(loc='lower right',title=None,fontsize=13)\n",
    "plt.tick_params(labelsize=20)\n",
    "plt.savefig('{}/{}'.format(fig_dir, 'rew_partition_prefout_rewout.png'))\n",
    "plt.show()"
   ]
  },
  {
   "cell_type": "code",
   "execution_count": null,
   "metadata": {},
   "outputs": [],
   "source": []
  }
 ],
 "metadata": {
  "kernelspec": {
   "display_name": "Python 3",
   "language": "python",
   "name": "python3"
  },
  "language_info": {
   "codemirror_mode": {
    "name": "ipython",
    "version": 3
   },
   "file_extension": ".py",
   "mimetype": "text/x-python",
   "name": "python",
   "nbconvert_exporter": "python",
   "pygments_lexer": "ipython3",
   "version": "3.6.5"
  }
 },
 "nbformat": 4,
 "nbformat_minor": 2
}
