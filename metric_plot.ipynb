{
 "cells": [
  {
   "cell_type": "code",
   "execution_count": 1,
   "metadata": {},
   "outputs": [],
   "source": [
    "import numpy as np\n",
    "import seaborn as sns\n",
    "import matplotlib.pyplot as plt\n",
    "import pandas as pd\n",
    "\n",
    "# s = pd.Series(['orca', 0 , 2.1, 0., .5], index=entry)\n",
    "# data = data.append(s, ignore_index=True)\n",
    "# self.data.to_csv('{}/train_data{}.csv'.format(dir, suffix))\n",
    "# df = pd.read_csv('{}/{}/{}'.format(dir, subfolder, csv_name)).drop(['Unnamed: 0'], axis=1)\n",
    "# plt.figure()\n",
    "# plt.savefig('{}/{}'.format(dir, name), dpi=200)\n",
    "# plt.close()\n",
    "\n",
    "load_dir = './model'\n",
    "\n",
    "clde = 'selected_metric_clde.csv'\n",
    "indep = 'selected_metric_indep.csv'\n",
    "maddpg = 'selected_metric_maddpg.csv'\n"
   ]
  },
  {
   "cell_type": "code",
   "execution_count": 2,
   "metadata": {},
   "outputs": [],
   "source": [
    "dfclde = pd.read_csv('{}/{}'.format(load_dir,clde)).drop(['Unnamed: 0'], axis=1)\n",
    "dfindep = pd.read_csv('{}/{}'.format(load_dir,indep)).drop(['Unnamed: 0'], axis=1)\n",
    "dfmaddpg = pd.read_csv('{}/{}'.format(load_dir,maddpg)).drop(['Unnamed: 0'], axis=1)"
   ]
  },
  {
   "cell_type": "code",
   "execution_count": 3,
   "metadata": {},
   "outputs": [
    {
     "name": "stdout",
     "output_type": "stream",
     "text": [
      "50\n",
      "3\n"
     ]
    }
   ],
   "source": [
    "num_test = len(dfclde)\n",
    "print (num_test)\n",
    "\n",
    "# collect = {'PV3agents': dfpos3[:num_seed],  \n",
    "#            'PV5agents': dfpos5[:num_seed], \n",
    "#            'PV7agents': dfpos7[:num_seed],}\n",
    "\n",
    "collect = {'clde': dfclde,\n",
    "           'indep': dfindep,\n",
    "           'maddpg': dfmaddpg}\n",
    "\n",
    "print (len(collect))"
   ]
  },
  {
   "cell_type": "code",
   "execution_count": 4,
   "metadata": {},
   "outputs": [
    {
     "name": "stdout",
     "output_type": "stream",
     "text": [
      "indep 50poly_pad_poly 50\n",
      "length of effieciency and success_rate(before numtests ) 18 18\n",
      "setting indep input_setting 50poly_pad_poly success_rate 0.36\n",
      "maddpg 50poly_pad_poly 50\n",
      "length of effieciency and success_rate(before numtests ) 27 27\n",
      "setting maddpg input_setting 50poly_pad_poly success_rate 0.54\n",
      "clde 50poly_pad_poly 50\n",
      "length of effieciency and success_rate(before numtests ) 46 46\n",
      "setting clde input_setting 50poly_pad_poly success_rate 0.92\n"
     ]
    }
   ],
   "source": [
    "# initialize dataframes\n",
    "epi_entry = ['Method', 'Input setting', 'Test index', 'Efficiency', 'Connectivity', 'Smoothness']\n",
    "epi_title = {e:[] for e in epi_entry}\n",
    "epi_data = pd.DataFrame(epi_title)\n",
    "\n",
    "sum_entry = ['Method', 'Input setting', 'Success rate']\n",
    "sum_title = {e:[] for e in sum_entry}\n",
    "sum_data = pd.DataFrame(sum_title)\n",
    "\n",
    "# collecting data\n",
    "#setting = ['psv', 'psa', 'lidarv', 'lidara']\n",
    "# setting = ['3agents', '4agents', '5agents', '6agents', '7agents', '8agents']\n",
    "# figure_setting_name = ['3', '4', '5', '6', '7', '8'] #['4 agents', '5 agents', '6 agents', '7 agents']\n",
    "setting = ['indep', 'maddpg', 'clde']\n",
    "figure_setting_name = ['Indep. PPO', 'Maddpg','Our method']\n",
    "#comparing_method = ['independent ppo','decentralized ppo']\n",
    "# input_setting = ['PV','LV']\n",
    "# figure_input_setting = ['P+V','L+V']\n",
    "input_setting = ['50poly_pad_poly']\n",
    "figure_input_setting = ['50poly_pad_poly']\n",
    "\n",
    "num_test = 50\n",
    "setting_ind = 0\n",
    "for s in setting:\n",
    "    sum_frame = []\n",
    "    #list_efficiency = []\n",
    "    #list_connectivity = []\n",
    "    #list_smoothness = []\n",
    "    #success_rate = 0\n",
    "    inputsetting_ind = 0\n",
    "    for inputs in input_setting:\n",
    "        print (s, inputs, num_test)\n",
    "        list_efficiency = []\n",
    "        list_connectivity = []\n",
    "        list_smoothness = []\n",
    "        success_rate = 0\n",
    "        env_id = 0\n",
    "        for n in range(num_test):\n",
    "#             for k in range(len(seed)):\n",
    "#                 success_rate += 1 if collect[inputs+s][k]['success_flag'][env_id] else 0 \n",
    "#                 if collect[inputs+s][k]['success_flag'][env_id]:\n",
    "#                     list_efficiency.append(collect[inputs+s][k]['efficency'][env_id])\n",
    "#                 list_connectivity.append(collect[inputs+s][k]['connectivity'][env_id])\n",
    "#                 list_smoothness.append(collect[inputs+s][k]['smoothness'][env_id])\n",
    "\n",
    "            success_rate += 1 if collect[s]['success_flag'][env_id] else 0 \n",
    "            if collect[s]['success_flag'][env_id]:\n",
    "                list_efficiency.append(collect[s]['efficiency'][env_id])\n",
    "            list_connectivity.append(collect[s]['connectivity'][env_id])\n",
    "            list_smoothness.append(collect[s]['smoothness'][env_id])\n",
    "                \n",
    "            env_id += 1\n",
    "        \n",
    "        #print(collect[method+s]['success_flag'])\n",
    "        # episodic metrics\n",
    "        #method_setting = [method for n in range(num_test*len(seed))]\n",
    "        list_input_setting = [figure_input_setting[inputsetting_ind] for n in range(num_test)]\n",
    "        list_setting = [figure_setting_name[setting_ind] for n in range(num_test)]\n",
    "        list_test_index = list(range(num_test))\n",
    "    \n",
    "        # frame = [list_setting, list_test_index, list_efficiency, list_connectivity, list_smoothness]\n",
    "        # frame = [list_setting, method_setting, list_test_index, list_efficiency, list_connectivity, list_smoothness]\n",
    "        frame = [list_setting, list_input_setting, list_test_index, list_efficiency, list_connectivity, list_smoothness]\n",
    "        sum_frame.append(frame)\n",
    "        #print (\"sum_frame size\\n\", sum_frame)\n",
    "        \n",
    "        frame = list(map(list, zip(*frame)))\n",
    "    \n",
    "        df = pd.DataFrame(frame, columns=epi_entry)\n",
    "        epi_data = epi_data.append(df, ignore_index=True)\n",
    "        \n",
    "        # summarized metrics\n",
    "        print (\"length of effieciency and success_rate(before numtests )\", len(list_efficiency), success_rate)\n",
    "        # success_rate /= 1.* (num_test*len(seed))\n",
    "        success_rate /= 1.* (num_test)\n",
    "        print (\"setting {} input_setting {} success_rate {}\".format(s, inputs,float(success_rate)))\n",
    "        df = pd.Series([figure_setting_name[setting_ind], figure_input_setting[inputsetting_ind], success_rate], index=sum_entry)\n",
    "        sum_data = sum_data.append(df, ignore_index=True)\n",
    "        inputsetting_ind += 1\n",
    "    setting_ind += 1"
   ]
  },
  {
   "cell_type": "code",
   "execution_count": 5,
   "metadata": {},
   "outputs": [
    {
     "data": {
      "image/png": "[encoded data removed]",
      "text/plain": [
       "<Figure size 504x72 with 1 Axes>"
      ]
     },
     "metadata": {},
     "output_type": "display_data"
    }
   ],
   "source": [
    "# color stuff\n",
    "colors = [\"peach\", \"salmon pink\", \"tiffany blue\", \"light lavender\", \"light blue grey\", \"pastel yellow\", \"foam green\",  ]\n",
    "#colors = [\"leather\",\"violet pink\",\"shamrock green\",\"dark orange\", \"mustard yellow\",\"cerulean\",\"pinkish purple\",\"electric blue\", \"peach\", \"light blue grey\", \"pastel yellow\"]\n",
    "sns.set_palette(sns.xkcd_palette(colors))\n",
    "sns.palplot(sns.xkcd_palette(colors))"
   ]
  },
  {
   "cell_type": "code",
   "execution_count": 6,
   "metadata": {},
   "outputs": [
    {
     "name": "stderr",
     "output_type": "stream",
     "text": [
      "/home/yangxuyun/anaconda3/lib/python3.6/site-packages/seaborn/categorical.py:3666: UserWarning: The `factorplot` function has been renamed to `catplot`. The original name will be removed in a future release. Please update your code. Note that the default `kind` in `factorplot` (`'point'`) has changed `'strip'` in `catplot`.\n",
      "  warnings.warn(msg)\n"
     ]
    },
    {
     "data": {
      "text/plain": [
       "<Figure size 576x576 with 0 Axes>"
      ]
     },
     "metadata": {},
     "output_type": "display_data"
    },
    {
     "data": {
      "image/png": "[encoded data removed]",
      "text/plain": [
       "<Figure size 360x360 with 1 Axes>"
      ]
     },
     "metadata": {},
     "output_type": "display_data"
    }
   ],
   "source": [
    "#sns.barplot(x='Setting', y='Success rate', hue=\"Method\", data=sum_data,legend=False)\n",
    "plt.close()\n",
    "plt.figure(1,figsize = (8,8))\n",
    "plt.rcParams.update({'font.size': 18})\n",
    "success = sns.factorplot(x='Method', y='Success rate', kind=\"bar\", data=sum_data, legend = False) #, height=6., aspect=1./1.) , hue=\"Input setting\"\n",
    "success.despine(left=False,top=False,right=False)\n",
    "# plt.legend(loc='lower left',fontsize=17)  #'xx-large'\n",
    "plt.tick_params(labelsize=14)\n",
    "ax = plt.gca()\n",
    "ax.set_ylim([0, 1])\n",
    "\n",
    "# Iterate through the list of axes' patches\n",
    "#for p in ax.patches:\n",
    "#    ax.text(p.get_x() + p.get_width()/2., p.get_height()-p.get_height()/100, '%.02f' % p.get_height(), \n",
    "#            fontsize=14, color='black', ha='center', va='bottom')\n",
    "\n",
    "plt.savefig('./fig/success_rate.png')"
   ]
  },
  {
   "cell_type": "code",
   "execution_count": 7,
   "metadata": {
    "scrolled": true
   },
   "outputs": [
    {
     "name": "stderr",
     "output_type": "stream",
     "text": [
      "/home/yangxuyun/anaconda3/lib/python3.6/site-packages/seaborn/categorical.py:3666: UserWarning: The `factorplot` function has been renamed to `catplot`. The original name will be removed in a future release. Please update your code. Note that the default `kind` in `factorplot` (`'point'`) has changed `'strip'` in `catplot`.\n",
      "  warnings.warn(msg)\n"
     ]
    },
    {
     "data": {
      "text/plain": [
       "<Figure size 576x576 with 0 Axes>"
      ]
     },
     "metadata": {},
     "output_type": "display_data"
    },
    {
     "data": {
      "image/png": "[encoded data removed]",
      "text/plain": [
       "<Figure size 360x360 with 1 Axes>"
      ]
     },
     "metadata": {},
     "output_type": "display_data"
    }
   ],
   "source": [
    "#sns.barplot(x=\"Setting\", y=\"Connectivity\", hue=\"Method\", data=epi_data, capsize =.1)\n",
    "plt.close()\n",
    "plt.figure(2,figsize = (8,8))\n",
    "plt.rcParams.update({'font.size': 18})\n",
    "connectivity = sns.factorplot(x=\"Method\", y=\"Connectivity\", kind=\"bar\", data=epi_data, capsize =.1, legend = False) #, height=6., aspect=1./1.) , hue=\"Input setting\"\n",
    "sns.despine(top=False, right=False) #top=False, right=False\n",
    "# plt.legend(loc='lower left', fontsize=17)\n",
    "plt.tick_params(labelsize=14)\n",
    "\n",
    "plt.savefig('./fig/scalability.png')"
   ]
  },
  {
   "cell_type": "code",
   "execution_count": 8,
   "metadata": {
    "scrolled": true
   },
   "outputs": [
    {
     "name": "stderr",
     "output_type": "stream",
     "text": [
      "/home/yangxuyun/anaconda3/lib/python3.6/site-packages/seaborn/categorical.py:3666: UserWarning: The `factorplot` function has been renamed to `catplot`. The original name will be removed in a future release. Please update your code. Note that the default `kind` in `factorplot` (`'point'`) has changed `'strip'` in `catplot`.\n",
      "  warnings.warn(msg)\n"
     ]
    },
    {
     "data": {
      "text/plain": [
       "<Figure size 576x576 with 0 Axes>"
      ]
     },
     "metadata": {},
     "output_type": "display_data"
    },
    {
     "data": {
      "image/png": "[encoded data removed]",
      "text/plain": [
       "<Figure size 360x360 with 1 Axes>"
      ]
     },
     "metadata": {},
     "output_type": "display_data"
    }
   ],
   "source": [
    "#sns.barplot(x=\"Setting\", y=\"Efficiency\", hue=\"Method\", data=epi_data, capsize =.1)\n",
    "plt.close()\n",
    "plt.figure(3,figsize = (8,8))\n",
    "plt.rcParams.update({'font.size': 18})\n",
    "efficency = sns.factorplot(x=\"Method\", y=\"Efficiency\", kind='bar', data=epi_data, capsize =.1, legend = False) #, height=6., aspect=4./3.) hue=\"Input setting\", \n",
    "efficency.despine(top=False, right=False)\n",
    "# plt.legend(loc='lower left', fontsize=17)\n",
    "plt.tick_params(labelsize=14)\n",
    "\n",
    "plt.savefig('./fig/efficiency.png')"
   ]
  },
  {
   "cell_type": "code",
   "execution_count": null,
   "metadata": {},
   "outputs": [],
   "source": []
  }
 ],
 "metadata": {
  "kernelspec": {
   "display_name": "Python 3",
   "language": "python",
   "name": "python3"
  },
  "language_info": {
   "codemirror_mode": {
    "name": "ipython",
    "version": 3
   },
   "file_extension": ".py",
   "mimetype": "text/x-python",
   "name": "python",
   "nbconvert_exporter": "python",
   "pygments_lexer": "ipython3",
   "version": "3.6.5"
  }
 },
 "nbformat": 4,
 "nbformat_minor": 2
}
