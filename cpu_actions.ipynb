{
 "cells": [
  {
   "cell_type": "code",
   "execution_count": 1,
   "metadata": {},
   "outputs": [
    {
     "name": "stdout",
     "output_type": "stream",
     "text": [
      "./ppo/logs/190201/lidar_v-v0/clde_unordered_fc_seperate_no-rnn_mean_dir_out_no-bn_no-network_expand_no_bias/seed1/model/model4500_cpu_actions.npy\n",
      "./ppo/logs/190201/lidar_v-v0/clde_unordered_fc_seperate_no-rnn_mean_dir_out_no-bn_no-network_expand_with_bias/seed1/model/model4500_cpu_actions.npy\n",
      "./ppo/logs/190201/polar_lidar_v-v0/clde_unordered_fc_seperate_no-rnn_mean_dir_out_no-bn_no-network_expand_no_bias/seed1/model/model4500_cpu_actions.npy\n",
      "./ppo/logs/190201/polar_lidar_v-v0/clde_unordered_fc_seperate_no-rnn_mean_dir_out_no-bn_no-network_expand_with_bias/seed1/model/model4500_cpu_actions.npy\n"
     ]
    }
   ],
   "source": [
    "import numpy as np\n",
    "import os\n",
    "\n",
    "# npy_path = [\"./ppo/logs/190128/lidar_v-v0/clde_unordered_fc_seperate_no-rnn_mean_dir_out_no-bn/seed1/model\",\n",
    "#            \"./ppo/logs/190128/lidar_v-v0/clde_unordered_fc_seperate_no-rnn_mean_dir_out_no-bn/seed2/model\",\n",
    "#            \"./ppo/logs/190128/normalized_lidar_v-v0/clde_unordered_tanh_seperate_no-rnn_mean_dir_out_no-bn/seed1/model\",\n",
    "#            \"./ppo/logs/190128/normalized_lidar_v-v0/clde_unordered_tanh_seperate_no-rnn_mean_dir_out_no-bn/seed2/model\",\n",
    "#            \"./ppo/logs/190128/polar_lidar_v-v0/clde_unordered_fc_seperate_no-rnn_mean_dir_out_no-bn/seed1\",\n",
    "#            \"./ppo/logs/190128/polar_lidar_v-v0/clde_unordered_fc_seperate_no-rnn_mean_dir_out_no-bn/seed2\",\n",
    "#            \"./ppo/logs/190128/normalized_polar_lidar_v-v0/clde_unordered_sigtanh_seperate_no-rnn_mean_dir_out_no-bn/seed1\",\n",
    "#            \"./ppo/logs/190128/normalized_polar_lidar_v-v0/clde_unordered_sigtanh_seperate_no-rnn_mean_dir_out_no-bn/seed2\"]\n",
    "\n",
    "# npy_record = [\"model4800_cpu_actions.npy\",\n",
    "#              \"model4800_cpu_actions.npy\",\n",
    "#              \"model14400_cpu_actions.npy\",\n",
    "#              \"model14400_cpu_actions.npy\",\n",
    "#              \"model13500_cpu_actions.npy\",\n",
    "#              \"model12700_cpu_actions.npy\",\n",
    "#              \"model2200_cpu_actions.npy\",\n",
    "#              \"model1100_cpu_actions.npy\"]\n",
    "\n",
    "npy_path = [\"./ppo/logs/190201/lidar_v-v0/clde_unordered_fc_seperate_no-rnn_mean_dir_out_no-bn_no-network_expand_no_bias/seed1/model\",\n",
    "           \"./ppo/logs/190201/lidar_v-v0/clde_unordered_fc_seperate_no-rnn_mean_dir_out_no-bn_no-network_expand_with_bias/seed1/model\",\n",
    "           \"./ppo/logs/190201/polar_lidar_v-v0/clde_unordered_fc_seperate_no-rnn_mean_dir_out_no-bn_no-network_expand_no_bias/seed1/model\",\n",
    "           \"./ppo/logs/190201/polar_lidar_v-v0/clde_unordered_fc_seperate_no-rnn_mean_dir_out_no-bn_no-network_expand_with_bias/seed1/model\",\n",
    "           ]\n",
    "\n",
    "npy_record = [\"model4500_cpu_actions.npy\",\n",
    "             \"model4500_cpu_actions.npy\",\n",
    "             \"model4500_cpu_actions.npy\",\n",
    "             \"model4500_cpu_actions.npy\"]\n",
    "\n",
    "for idx in range(len(npy_path)):\n",
    "    npy_file = os.path.join(npy_path[idx], npy_record[idx])\n",
    "    print(npy_file)\n",
    "    np.load(npy_file)"
   ]
  },
  {
   "cell_type": "code",
   "execution_count": 2,
   "metadata": {},
   "outputs": [],
   "source": [
    "import matplotlib.pyplot as plt"
   ]
  },
  {
   "cell_type": "code",
   "execution_count": 3,
   "metadata": {},
   "outputs": [
    {
     "name": "stdout",
     "output_type": "stream",
     "text": [
      "./ppo/logs/190201/lidar_v-v0/clde_unordered_fc_seperate_no-rnn_mean_dir_out_no-bn_no-network_expand_no_bias/seed1/model/model4500_cpu_actions.npy\n",
      "./ppo/logs/190201/lidar_v-v0/clde_unordered_fc_seperate_no-rnn_mean_dir_out_no-bn_no-network_expand_with_bias/seed1/model/model4500_cpu_actions.npy\n",
      "./ppo/logs/190201/polar_lidar_v-v0/clde_unordered_fc_seperate_no-rnn_mean_dir_out_no-bn_no-network_expand_no_bias/seed1/model/model4500_cpu_actions.npy\n",
      "./ppo/logs/190201/polar_lidar_v-v0/clde_unordered_fc_seperate_no-rnn_mean_dir_out_no-bn_no-network_expand_with_bias/seed1/model/model4500_cpu_actions.npy\n"
     ]
    }
   ],
   "source": [
    "for idx in range(len(npy_path)):\n",
    "    cpu_actions_sequence = None\n",
    "    npy_file = os.path.join(npy_path[idx], npy_record[idx])\n",
    "    print(npy_file)\n",
    "    cpu_actions_sequence = np.load(npy_file)\n",
    "    \n",
    "    # preprocessing with data\n",
    "    robot_i_actions_sequence = [[] for _ in range(len(cpu_actions_sequence[0]))]\n",
    "    for it in range(len(cpu_actions_sequence)):\n",
    "        for robot_idx in range(len(cpu_actions_sequence[it])):\n",
    "            robot_i_actions_sequence[robot_idx].append(cpu_actions_sequence[it][robot_idx])\n",
    "    \n",
    "    # scatter the actions of each robot\n",
    "    for robot_idx in range(len(cpu_actions_sequence[0])):\n",
    "        # print(robot_i_actions_sequence[robot_idx])\n",
    "        robot_i_actions_sequence[robot_idx] = np.array(robot_i_actions_sequence[robot_idx]) # convert list to array\n",
    "        fig = plt.figure()\n",
    "        ax1 = fig.add_subplot(111)\n",
    "        ax1.set_title(\"{}-{}-agent{}\".format(npy_path[idx], npy_record[idx], robot_idx))\n",
    "        ax1.scatter(x=robot_i_actions_sequence[robot_idx][:,0], \n",
    "                    y=robot_i_actions_sequence[robot_idx][:,1],\n",
    "                    c = 'r',marker = 'o')\n",
    "        plt.savefig(\"{}-{}-agent{}.png\".format(npy_path[idx], npy_record[idx], robot_idx))\n",
    "        plt.close()"
   ]
  },
  {
   "cell_type": "code",
   "execution_count": 4,
   "metadata": {},
   "outputs": [
    {
     "name": "stdout",
     "output_type": "stream",
     "text": [
      "3\n",
      "[array([1., 2.]), array([1., 2.]), array([1., 2.])]\n",
      "[1. 1. 1.]\n"
     ]
    }
   ],
   "source": [
    "a = [[[1,2],[3,4],[5,6]],[[1,2],[3,4],[5,6]]]\n",
    "print(len(a[0]))\n",
    "import numpy as np\n",
    "b = np.array([1.,2.])\n",
    "c = b\n",
    "d = b\n",
    "e = []\n",
    "e.append(b)\n",
    "e.append(c)\n",
    "e.append(d)\n",
    "print(e)\n",
    "# for i,item in enumerate(e):\n",
    "#     e[i] = item.tolist()\n",
    "e = np.array(e)\n",
    "print(e[:,0])"
   ]
  },
  {
   "cell_type": "code",
   "execution_count": null,
   "metadata": {},
   "outputs": [],
   "source": []
  }
 ],
 "metadata": {
  "kernelspec": {
   "display_name": "Python 3",
   "language": "python",
   "name": "python3"
  },
  "language_info": {
   "codemirror_mode": {
    "name": "ipython",
    "version": 3
   },
   "file_extension": ".py",
   "mimetype": "text/x-python",
   "name": "python",
   "nbconvert_exporter": "python",
   "pygments_lexer": "ipython3",
   "version": "3.6.5"
  }
 },
 "nbformat": 4,
 "nbformat_minor": 2
}
